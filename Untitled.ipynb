{
 "cells": [
  {
   "cell_type": "markdown",
   "id": "338ed0c7-c64b-45fc-8068-0cdb580d621f",
   "metadata": {},
   "source": [
    "本数据集包含了 3900 条购物交易记录，涵盖了 15 个关键属性。记录了每笔交易的详细信息，包括交易日期（Date）、顾客唯一标识（Customer ID）、顾客年龄（Age）、性别（Gender）、购买的商品名称（Item Purchased）、商品所属类别（Category）、购买金额（Purchase Amount）、购物地点（Location）、商品尺寸（Size）、颜色（Color）、购物季节（Season）、顾客给出的评价评分（Review Rating）、顾客的订阅状态（Subscription Status）以及是否使用了折扣（Discount Applied）和促销码（Promo Code Used）等信息。这些属性从多个角度刻画了消费者的购物行为和偏好，为后续的数据分析提供了丰富的素材。"
   ]
  },
  {
   "cell_type": "markdown",
   "id": "5cbe9aee-43dd-458e-ac0a-21def35e29d6",
   "metadata": {},
   "source": [
    "# 数据清洗"
   ]
  },
  {
   "cell_type": "code",
   "execution_count": 1,
   "id": "2c53f25e-3f80-4b9c-a12d-3422dd204e06",
   "metadata": {},
   "outputs": [],
   "source": [
    "import pandas as pd\n",
    "import matplotlib.pyplot as plt\n",
    "import seaborn as sns\n",
    "import numpy as np\n",
    "from sklearn.cluster import KMeans"
   ]
  },
  {
   "cell_type": "code",
   "execution_count": 2,
   "id": "81e0af6b-967b-48f0-8ad6-4d7dbec2d66e",
   "metadata": {},
   "outputs": [],
   "source": [
    "ori_shopping=pd.read_csv(\"shopping_trends.csv\")"
   ]
  },
  {
   "cell_type": "code",
   "execution_count": 3,
   "id": "9427d138-3fb6-4dd0-a0dd-b51077e96a1a",
   "metadata": {
    "scrolled": true
   },
   "outputs": [
    {
     "name": "stdout",
     "output_type": "stream",
     "text": [
      "Index(['Date', 'Customer ID', 'Age', 'Gender', 'Item Purchased', 'Category',\n",
      "       'Purchase Amount ', 'Location', 'Size', 'Color', 'Season',\n",
      "       'Review Rating', 'Subscription Status', 'Discount Applied',\n",
      "       'Promo Code Used'],\n",
      "      dtype='object')\n"
     ]
    }
   ],
   "source": [
    "print(ori_shopping.columns) "
   ]
  },
  {
   "cell_type": "code",
   "execution_count": 4,
   "id": "7e6dcba9-87a5-419c-912e-a544e3475815",
   "metadata": {},
   "outputs": [],
   "source": [
    "ori_shopping = ori_shopping.rename(columns = {'Purchase Amount ':'Purchase Amount'})"
   ]
  },
  {
   "cell_type": "code",
   "execution_count": 5,
   "id": "98a21aca-d61d-48ea-94dc-b2c71bd6346e",
   "metadata": {},
   "outputs": [
    {
     "data": {
      "text/html": [
       "<div>\n",
       "<style scoped>\n",
       "    .dataframe tbody tr th:only-of-type {\n",
       "        vertical-align: middle;\n",
       "    }\n",
       "\n",
       "    .dataframe tbody tr th {\n",
       "        vertical-align: top;\n",
       "    }\n",
       "\n",
       "    .dataframe thead th {\n",
       "        text-align: right;\n",
       "    }\n",
       "</style>\n",
       "<table border=\"1\" class=\"dataframe\">\n",
       "  <thead>\n",
       "    <tr style=\"text-align: right;\">\n",
       "      <th></th>\n",
       "      <th>Date</th>\n",
       "      <th>Customer ID</th>\n",
       "      <th>Age</th>\n",
       "      <th>Gender</th>\n",
       "      <th>Item Purchased</th>\n",
       "      <th>Category</th>\n",
       "      <th>Purchase Amount</th>\n",
       "      <th>Location</th>\n",
       "      <th>Size</th>\n",
       "      <th>Color</th>\n",
       "      <th>Season</th>\n",
       "      <th>Review Rating</th>\n",
       "      <th>Subscription Status</th>\n",
       "      <th>Discount Applied</th>\n",
       "      <th>Promo Code Used</th>\n",
       "    </tr>\n",
       "  </thead>\n",
       "  <tbody>\n",
       "    <tr>\n",
       "      <th>914</th>\n",
       "      <td>2023/11/7</td>\n",
       "      <td>BM-11650</td>\n",
       "      <td>43</td>\n",
       "      <td>Male</td>\n",
       "      <td>Dress</td>\n",
       "      <td>Clothing</td>\n",
       "      <td>67</td>\n",
       "      <td>Shanxi</td>\n",
       "      <td>L</td>\n",
       "      <td>Purple</td>\n",
       "      <td>Fall</td>\n",
       "      <td>4.1</td>\n",
       "      <td>Yes</td>\n",
       "      <td>Yes</td>\n",
       "      <td>Yes</td>\n",
       "    </tr>\n",
       "    <tr>\n",
       "      <th>387</th>\n",
       "      <td>2023/3/13</td>\n",
       "      <td>DK-13225</td>\n",
       "      <td>45</td>\n",
       "      <td>Male</td>\n",
       "      <td>Coat</td>\n",
       "      <td>Outerwear</td>\n",
       "      <td>93</td>\n",
       "      <td>Shaanxi</td>\n",
       "      <td>L</td>\n",
       "      <td>Silver</td>\n",
       "      <td>Spring</td>\n",
       "      <td>4.6</td>\n",
       "      <td>Yes</td>\n",
       "      <td>Yes</td>\n",
       "      <td>Yes</td>\n",
       "    </tr>\n",
       "    <tr>\n",
       "      <th>2061</th>\n",
       "      <td>2023/3/31</td>\n",
       "      <td>GG-14650</td>\n",
       "      <td>32</td>\n",
       "      <td>Male</td>\n",
       "      <td>Sweater</td>\n",
       "      <td>Clothing</td>\n",
       "      <td>70</td>\n",
       "      <td>Jiangsu</td>\n",
       "      <td>S</td>\n",
       "      <td>Magenta</td>\n",
       "      <td>Spring</td>\n",
       "      <td>2.6</td>\n",
       "      <td>No</td>\n",
       "      <td>No</td>\n",
       "      <td>No</td>\n",
       "    </tr>\n",
       "    <tr>\n",
       "      <th>303</th>\n",
       "      <td>2023/10/3</td>\n",
       "      <td>JH-15910</td>\n",
       "      <td>20</td>\n",
       "      <td>Male</td>\n",
       "      <td>Sandals</td>\n",
       "      <td>Footwear</td>\n",
       "      <td>60</td>\n",
       "      <td>Hebei</td>\n",
       "      <td>M</td>\n",
       "      <td>Turquoise</td>\n",
       "      <td>Fall</td>\n",
       "      <td>3.3</td>\n",
       "      <td>Yes</td>\n",
       "      <td>Yes</td>\n",
       "      <td>Yes</td>\n",
       "    </tr>\n",
       "    <tr>\n",
       "      <th>2072</th>\n",
       "      <td>2023/2/23</td>\n",
       "      <td>TC-20980</td>\n",
       "      <td>39</td>\n",
       "      <td>Male</td>\n",
       "      <td>Backpack</td>\n",
       "      <td>Accessories</td>\n",
       "      <td>66</td>\n",
       "      <td>Guangdong</td>\n",
       "      <td>M</td>\n",
       "      <td>Beige</td>\n",
       "      <td>Winter</td>\n",
       "      <td>3.9</td>\n",
       "      <td>No</td>\n",
       "      <td>No</td>\n",
       "      <td>No</td>\n",
       "    </tr>\n",
       "    <tr>\n",
       "      <th>3137</th>\n",
       "      <td>2023/7/7</td>\n",
       "      <td>LS-16975</td>\n",
       "      <td>34</td>\n",
       "      <td>Female</td>\n",
       "      <td>Coat</td>\n",
       "      <td>Outerwear</td>\n",
       "      <td>44</td>\n",
       "      <td>Gansu</td>\n",
       "      <td>M</td>\n",
       "      <td>Turquoise</td>\n",
       "      <td>Summer</td>\n",
       "      <td>2.7</td>\n",
       "      <td>No</td>\n",
       "      <td>No</td>\n",
       "      <td>No</td>\n",
       "    </tr>\n",
       "    <tr>\n",
       "      <th>737</th>\n",
       "      <td>2023/5/9</td>\n",
       "      <td>DS-13030</td>\n",
       "      <td>47</td>\n",
       "      <td>Male</td>\n",
       "      <td>Sunglasses</td>\n",
       "      <td>Accessories</td>\n",
       "      <td>24</td>\n",
       "      <td>Chongqing</td>\n",
       "      <td>M</td>\n",
       "      <td>Teal</td>\n",
       "      <td>Spring</td>\n",
       "      <td>3.6</td>\n",
       "      <td>Yes</td>\n",
       "      <td>Yes</td>\n",
       "      <td>Yes</td>\n",
       "    </tr>\n",
       "    <tr>\n",
       "      <th>1239</th>\n",
       "      <td>2023/4/29</td>\n",
       "      <td>GM-14680</td>\n",
       "      <td>62</td>\n",
       "      <td>Male</td>\n",
       "      <td>Coat</td>\n",
       "      <td>Outerwear</td>\n",
       "      <td>37</td>\n",
       "      <td>Guangxi</td>\n",
       "      <td>XL</td>\n",
       "      <td>Magenta</td>\n",
       "      <td>Spring</td>\n",
       "      <td>4.8</td>\n",
       "      <td>No</td>\n",
       "      <td>Yes</td>\n",
       "      <td>Yes</td>\n",
       "    </tr>\n",
       "    <tr>\n",
       "      <th>3202</th>\n",
       "      <td>2023/4/11</td>\n",
       "      <td>RD-19900</td>\n",
       "      <td>65</td>\n",
       "      <td>Female</td>\n",
       "      <td>Scarf</td>\n",
       "      <td>Accessories</td>\n",
       "      <td>37</td>\n",
       "      <td>Hebei</td>\n",
       "      <td>L</td>\n",
       "      <td>Green</td>\n",
       "      <td>Spring</td>\n",
       "      <td>4.5</td>\n",
       "      <td>No</td>\n",
       "      <td>No</td>\n",
       "      <td>No</td>\n",
       "    </tr>\n",
       "    <tr>\n",
       "      <th>390</th>\n",
       "      <td>2023/3/3</td>\n",
       "      <td>MV-18190</td>\n",
       "      <td>25</td>\n",
       "      <td>Male</td>\n",
       "      <td>Gloves</td>\n",
       "      <td>Accessories</td>\n",
       "      <td>71</td>\n",
       "      <td>Fujian</td>\n",
       "      <td>M</td>\n",
       "      <td>Indigo</td>\n",
       "      <td>Spring</td>\n",
       "      <td>3.2</td>\n",
       "      <td>Yes</td>\n",
       "      <td>Yes</td>\n",
       "      <td>Yes</td>\n",
       "    </tr>\n",
       "  </tbody>\n",
       "</table>\n",
       "</div>"
      ],
      "text/plain": [
       "           Date Customer ID  Age  Gender Item Purchased     Category  \\\n",
       "914   2023/11/7    BM-11650   43    Male          Dress     Clothing   \n",
       "387   2023/3/13    DK-13225   45    Male           Coat    Outerwear   \n",
       "2061  2023/3/31    GG-14650   32    Male        Sweater     Clothing   \n",
       "303   2023/10/3    JH-15910   20    Male        Sandals     Footwear   \n",
       "2072  2023/2/23    TC-20980   39    Male       Backpack  Accessories   \n",
       "3137   2023/7/7    LS-16975   34  Female           Coat    Outerwear   \n",
       "737    2023/5/9    DS-13030   47    Male     Sunglasses  Accessories   \n",
       "1239  2023/4/29    GM-14680   62    Male           Coat    Outerwear   \n",
       "3202  2023/4/11    RD-19900   65  Female          Scarf  Accessories   \n",
       "390    2023/3/3    MV-18190   25    Male         Gloves  Accessories   \n",
       "\n",
       "      Purchase Amount   Location Size      Color  Season  Review Rating  \\\n",
       "914                67     Shanxi    L     Purple    Fall            4.1   \n",
       "387                93    Shaanxi    L     Silver  Spring            4.6   \n",
       "2061               70    Jiangsu    S    Magenta  Spring            2.6   \n",
       "303                60      Hebei    M  Turquoise    Fall            3.3   \n",
       "2072               66  Guangdong    M      Beige  Winter            3.9   \n",
       "3137               44      Gansu    M  Turquoise  Summer            2.7   \n",
       "737                24  Chongqing    M       Teal  Spring            3.6   \n",
       "1239               37    Guangxi   XL    Magenta  Spring            4.8   \n",
       "3202               37      Hebei    L      Green  Spring            4.5   \n",
       "390                71     Fujian    M     Indigo  Spring            3.2   \n",
       "\n",
       "     Subscription Status Discount Applied Promo Code Used  \n",
       "914                  Yes              Yes             Yes  \n",
       "387                  Yes              Yes             Yes  \n",
       "2061                  No               No              No  \n",
       "303                  Yes              Yes             Yes  \n",
       "2072                  No               No              No  \n",
       "3137                  No               No              No  \n",
       "737                  Yes              Yes             Yes  \n",
       "1239                  No              Yes             Yes  \n",
       "3202                  No               No              No  \n",
       "390                  Yes              Yes             Yes  "
      ]
     },
     "execution_count": 5,
     "metadata": {},
     "output_type": "execute_result"
    }
   ],
   "source": [
    "ori_shopping.sample(10)"
   ]
  },
  {
   "cell_type": "code",
   "execution_count": 6,
   "id": "16fb0ca2-fc73-43d9-96e2-3b0edf1ead0a",
   "metadata": {},
   "outputs": [
    {
     "name": "stdout",
     "output_type": "stream",
     "text": [
      "<class 'pandas.core.frame.DataFrame'>\n",
      "RangeIndex: 3900 entries, 0 to 3899\n",
      "Data columns (total 15 columns):\n",
      " #   Column               Non-Null Count  Dtype  \n",
      "---  ------               --------------  -----  \n",
      " 0   Date                 3900 non-null   object \n",
      " 1   Customer ID          3900 non-null   object \n",
      " 2   Age                  3900 non-null   int64  \n",
      " 3   Gender               3900 non-null   object \n",
      " 4   Item Purchased       3900 non-null   object \n",
      " 5   Category             3900 non-null   object \n",
      " 6   Purchase Amount      3900 non-null   int64  \n",
      " 7   Location             3900 non-null   object \n",
      " 8   Size                 3900 non-null   object \n",
      " 9   Color                3900 non-null   object \n",
      " 10  Season               3900 non-null   object \n",
      " 11  Review Rating        3900 non-null   float64\n",
      " 12  Subscription Status  3900 non-null   object \n",
      " 13  Discount Applied     3900 non-null   object \n",
      " 14  Promo Code Used      3900 non-null   object \n",
      "dtypes: float64(1), int64(2), object(12)\n",
      "memory usage: 457.2+ KB\n"
     ]
    }
   ],
   "source": [
    "ori_shopping.info()"
   ]
  },
  {
   "cell_type": "code",
   "execution_count": 7,
   "id": "3d965bd1-4615-47cb-99e3-dbb4f215669c",
   "metadata": {},
   "outputs": [],
   "source": [
    "# date是时间类型，Gender，Category，Size，Color，Season等可以是分类数据，没有缺失值。"
   ]
  },
  {
   "cell_type": "code",
   "execution_count": 8,
   "id": "8965340c-14c5-4e61-8f77-49ea4bb0d235",
   "metadata": {},
   "outputs": [
    {
     "data": {
      "text/plain": [
       "0      2023-12-27\n",
       "1      2023-03-06\n",
       "2      2023-02-05\n",
       "3      2023-07-11\n",
       "4      2023-06-24\n",
       "          ...    \n",
       "3895   2023-09-12\n",
       "3896   2023-08-26\n",
       "3897   2023-01-01\n",
       "3898   2023-08-22\n",
       "3899   2023-04-01\n",
       "Name: Date, Length: 3900, dtype: datetime64[ns]"
      ]
     },
     "execution_count": 8,
     "metadata": {},
     "output_type": "execute_result"
    }
   ],
   "source": [
    "#处理时间字段\n",
    "ori_shopping[\"Date\"] = pd.to_datetime(ori_shopping[\"Date\"])\n",
    "ori_shopping[\"Date\"]"
   ]
  },
  {
   "cell_type": "code",
   "execution_count": 9,
   "id": "e1ebd30a-b816-4f3c-91ff-be03d4cffbfa",
   "metadata": {},
   "outputs": [
    {
     "name": "stdout",
     "output_type": "stream",
     "text": [
      "<class 'pandas.core.frame.DataFrame'>\n",
      "RangeIndex: 3900 entries, 0 to 3899\n",
      "Data columns (total 15 columns):\n",
      " #   Column               Non-Null Count  Dtype         \n",
      "---  ------               --------------  -----         \n",
      " 0   Date                 3900 non-null   datetime64[ns]\n",
      " 1   Customer ID          3900 non-null   object        \n",
      " 2   Age                  3900 non-null   int64         \n",
      " 3   Gender               3900 non-null   category      \n",
      " 4   Item Purchased       3900 non-null   object        \n",
      " 5   Category             3900 non-null   category      \n",
      " 6   Purchase Amount      3900 non-null   int64         \n",
      " 7   Location             3900 non-null   object        \n",
      " 8   Size                 3900 non-null   category      \n",
      " 9   Color                3900 non-null   category      \n",
      " 10  Season               3900 non-null   category      \n",
      " 11  Review Rating        3900 non-null   float64       \n",
      " 12  Subscription Status  3900 non-null   category      \n",
      " 13  Discount Applied     3900 non-null   category      \n",
      " 14  Promo Code Used      3900 non-null   category      \n",
      "dtypes: category(8), datetime64[ns](1), float64(1), int64(2), object(3)\n",
      "memory usage: 245.7+ KB\n"
     ]
    }
   ],
   "source": [
    "#处理分类数据\n",
    "t1 = {'Gender':'category',\n",
    "      'Category':'category',\n",
    "      'Size':'category',\n",
    "      'Color':'category',\n",
    "      'Season':'category',\n",
    "      'Subscription Status':'category',\n",
    "      'Discount Applied':'category',\n",
    "      'Promo Code Used':'category'}\n",
    "ori_shopping = ori_shopping.astype(t1)\n",
    "ori_shopping.info()"
   ]
  },
  {
   "cell_type": "code",
   "execution_count": 10,
   "id": "40f8e797-c982-434a-bd44-4559f743a235",
   "metadata": {},
   "outputs": [
    {
     "data": {
      "text/plain": [
       "Gender\n",
       "Male      2652\n",
       "Female    1248\n",
       "Name: count, dtype: int64"
      ]
     },
     "execution_count": 10,
     "metadata": {},
     "output_type": "execute_result"
    }
   ],
   "source": [
    "# 不一致数据可能存在分类变量中\n",
    "ori_shopping[\"Gender\"].value_counts()"
   ]
  },
  {
   "cell_type": "code",
   "execution_count": 11,
   "id": "8d1c028c-a9e1-43aa-811c-a46e8b01a661",
   "metadata": {},
   "outputs": [
    {
     "data": {
      "text/plain": [
       "Category\n",
       "Clothing       1737\n",
       "Accessories    1240\n",
       "Footwear        599\n",
       "Outerwear       324\n",
       "Name: count, dtype: int64"
      ]
     },
     "execution_count": 11,
     "metadata": {},
     "output_type": "execute_result"
    }
   ],
   "source": [
    "ori_shopping[\"Category\"].value_counts()"
   ]
  },
  {
   "cell_type": "code",
   "execution_count": 12,
   "id": "9290e915-cef7-4469-9f32-e5f3ff979dc7",
   "metadata": {},
   "outputs": [
    {
     "data": {
      "text/plain": [
       "Size\n",
       "M     1755\n",
       "L     1053\n",
       "S      663\n",
       "XL     429\n",
       "Name: count, dtype: int64"
      ]
     },
     "execution_count": 12,
     "metadata": {},
     "output_type": "execute_result"
    }
   ],
   "source": [
    "ori_shopping[\"Size\"].value_counts()"
   ]
  },
  {
   "cell_type": "code",
   "execution_count": 13,
   "id": "dc2db075-d03a-4a11-bc4d-e0887edf9a90",
   "metadata": {},
   "outputs": [
    {
     "data": {
      "text/plain": [
       "Season\n",
       "Spring    1002\n",
       "Summer     981\n",
       "Fall       964\n",
       "Winter     953\n",
       "Name: count, dtype: int64"
      ]
     },
     "execution_count": 13,
     "metadata": {},
     "output_type": "execute_result"
    }
   ],
   "source": [
    "ori_shopping[\"Season\"].value_counts()"
   ]
  },
  {
   "cell_type": "code",
   "execution_count": 14,
   "id": "4c0092a1-b0d5-422b-b9c8-3158b0b61527",
   "metadata": {},
   "outputs": [
    {
     "data": {
      "text/plain": [
       "Color\n",
       "Olive        177\n",
       "Yellow       174\n",
       "Silver       173\n",
       "Teal         172\n",
       "Green        169\n",
       "Black        167\n",
       "Violet       166\n",
       "Cyan         166\n",
       "Gray         159\n",
       "Maroon       158\n",
       "Orange       154\n",
       "Pink         153\n",
       "Charcoal     153\n",
       "Magenta      152\n",
       "Blue         152\n",
       "Purple       151\n",
       "Peach        149\n",
       "Red          148\n",
       "Lavender     147\n",
       "Indigo       147\n",
       "Beige        147\n",
       "Turquoise    145\n",
       "White        142\n",
       "Brown        141\n",
       "Gold         138\n",
       "Name: count, dtype: int64"
      ]
     },
     "execution_count": 14,
     "metadata": {},
     "output_type": "execute_result"
    }
   ],
   "source": [
    "ori_shopping[\"Color\"].value_counts()"
   ]
  },
  {
   "cell_type": "code",
   "execution_count": 15,
   "id": "2b559109-df05-4138-9605-66c76993bdaf",
   "metadata": {},
   "outputs": [],
   "source": [
    "# 从以上结果来看，均不存在不一致数据"
   ]
  },
  {
   "cell_type": "code",
   "execution_count": 16,
   "id": "6d2f2c67-20ec-4aa4-8839-106d21b3df91",
   "metadata": {},
   "outputs": [
    {
     "data": {
      "text/html": [
       "<div>\n",
       "<style scoped>\n",
       "    .dataframe tbody tr th:only-of-type {\n",
       "        vertical-align: middle;\n",
       "    }\n",
       "\n",
       "    .dataframe tbody tr th {\n",
       "        vertical-align: top;\n",
       "    }\n",
       "\n",
       "    .dataframe thead th {\n",
       "        text-align: right;\n",
       "    }\n",
       "</style>\n",
       "<table border=\"1\" class=\"dataframe\">\n",
       "  <thead>\n",
       "    <tr style=\"text-align: right;\">\n",
       "      <th></th>\n",
       "      <th>Date</th>\n",
       "      <th>Age</th>\n",
       "      <th>Purchase Amount</th>\n",
       "      <th>Review Rating</th>\n",
       "    </tr>\n",
       "  </thead>\n",
       "  <tbody>\n",
       "    <tr>\n",
       "      <th>count</th>\n",
       "      <td>3900</td>\n",
       "      <td>3900.000000</td>\n",
       "      <td>3900.000000</td>\n",
       "      <td>3900.000000</td>\n",
       "    </tr>\n",
       "    <tr>\n",
       "      <th>mean</th>\n",
       "      <td>2023-07-01 18:03:41.538461440</td>\n",
       "      <td>44.068462</td>\n",
       "      <td>59.764359</td>\n",
       "      <td>3.749949</td>\n",
       "    </tr>\n",
       "    <tr>\n",
       "      <th>min</th>\n",
       "      <td>2023-01-01 00:00:00</td>\n",
       "      <td>18.000000</td>\n",
       "      <td>20.000000</td>\n",
       "      <td>2.500000</td>\n",
       "    </tr>\n",
       "    <tr>\n",
       "      <th>25%</th>\n",
       "      <td>2023-04-03 00:00:00</td>\n",
       "      <td>31.000000</td>\n",
       "      <td>39.000000</td>\n",
       "      <td>3.100000</td>\n",
       "    </tr>\n",
       "    <tr>\n",
       "      <th>50%</th>\n",
       "      <td>2023-07-01 00:00:00</td>\n",
       "      <td>44.000000</td>\n",
       "      <td>60.000000</td>\n",
       "      <td>3.700000</td>\n",
       "    </tr>\n",
       "    <tr>\n",
       "      <th>75%</th>\n",
       "      <td>2023-09-30 00:00:00</td>\n",
       "      <td>57.000000</td>\n",
       "      <td>81.000000</td>\n",
       "      <td>4.400000</td>\n",
       "    </tr>\n",
       "    <tr>\n",
       "      <th>max</th>\n",
       "      <td>2023-12-31 00:00:00</td>\n",
       "      <td>70.000000</td>\n",
       "      <td>100.000000</td>\n",
       "      <td>5.000000</td>\n",
       "    </tr>\n",
       "    <tr>\n",
       "      <th>std</th>\n",
       "      <td>NaN</td>\n",
       "      <td>15.207589</td>\n",
       "      <td>23.685392</td>\n",
       "      <td>0.716223</td>\n",
       "    </tr>\n",
       "  </tbody>\n",
       "</table>\n",
       "</div>"
      ],
      "text/plain": [
       "                                Date          Age  Purchase Amount  \\\n",
       "count                           3900  3900.000000      3900.000000   \n",
       "mean   2023-07-01 18:03:41.538461440    44.068462        59.764359   \n",
       "min              2023-01-01 00:00:00    18.000000        20.000000   \n",
       "25%              2023-04-03 00:00:00    31.000000        39.000000   \n",
       "50%              2023-07-01 00:00:00    44.000000        60.000000   \n",
       "75%              2023-09-30 00:00:00    57.000000        81.000000   \n",
       "max              2023-12-31 00:00:00    70.000000       100.000000   \n",
       "std                              NaN    15.207589        23.685392   \n",
       "\n",
       "       Review Rating  \n",
       "count    3900.000000  \n",
       "mean        3.749949  \n",
       "min         2.500000  \n",
       "25%         3.100000  \n",
       "50%         3.700000  \n",
       "75%         4.400000  \n",
       "max         5.000000  \n",
       "std         0.716223  "
      ]
     },
     "execution_count": 16,
     "metadata": {},
     "output_type": "execute_result"
    }
   ],
   "source": [
    "ori_shopping.describe()"
   ]
  },
  {
   "cell_type": "code",
   "execution_count": 17,
   "id": "c0c15cd2-93e7-4816-af62-0dfb8f870b14",
   "metadata": {},
   "outputs": [],
   "source": [
    "# 从以上结果来看，不存在脱离实际意义的值"
   ]
  },
  {
   "cell_type": "code",
   "execution_count": 18,
   "id": "68ac0966-0f02-4609-92e8-37f935340cd8",
   "metadata": {},
   "outputs": [],
   "source": [
    "ori_shopping.to_csv(\"cleaned_shopping_trends.csv\")"
   ]
  },
  {
   "cell_type": "markdown",
   "id": "b16d18ab-f9ae-4a2d-92b6-70027a03c161",
   "metadata": {},
   "source": [
    "数据分析\n",
    "从以上结果来看，该数据集涵括了2023年整年的销售状况，其中购买者年龄平均为44岁，最低达18岁，最高达70岁。平均交易价格约为59.7，标准差为23.7，说明产品线包括经济型和高端型。而顾客给出的评价评分均值再3.7左右，标准差为0.7，说明绝大多数消费者的评分差异较小。"
   ]
  },
  {
   "cell_type": "markdown",
   "id": "da4445ae-24d9-4318-8839-5bcb96e08b6d",
   "metadata": {},
   "source": [
    "# 数据可视化"
   ]
  },
  {
   "cell_type": "code",
   "execution_count": 19,
   "id": "c96ab9ad-1199-4364-aea2-8ad2efa587ca",
   "metadata": {},
   "outputs": [],
   "source": [
    "plt.rcParams['font.sans-serif'] = ['SimHei']   #设置中文字体"
   ]
  },
  {
   "cell_type": "code",
   "execution_count": 20,
   "id": "ef9c0401-6c0f-44cf-87e9-76e568b4d4a8",
   "metadata": {},
   "outputs": [
    {
     "name": "stderr",
     "output_type": "stream",
     "text": [
      "D:\\anaco\\Lib\\site-packages\\seaborn\\categorical.py:641: FutureWarning: The default of observed=False is deprecated and will be changed to True in a future version of pandas. Pass observed=False to retain current behavior or observed=True to adopt the future default and silence this warning.\n",
      "  grouped_vals = vals.groupby(grouper)\n"
     ]
    },
    {
     "data": {
      "image/png": "[encoded data removed]",
      "text/plain": [
       "<Figure size 640x480 with 1 Axes>"
      ]
     },
     "metadata": {},
     "output_type": "display_data"
    }
   ],
   "source": [
    "# 各种类价格分布\n",
    "sns.boxplot(\n",
    "    x = \"Category\",\n",
    "    y = \"Purchase Amount\",\n",
    "    data = ori_shopping,\n",
    "palette = \"Set3\")\n",
    "plt.title(\"各种类价格分布\")\n",
    "plt.xlabel(\"商品种类\")\n",
    "plt.ylabel(\"购买价格\")\n",
    "plt.show()"
   ]
  },
  {
   "cell_type": "code",
   "execution_count": 21,
   "id": "ba251f8e-9781-419d-95c0-871d9a4c017b",
   "metadata": {},
   "outputs": [
    {
     "data": {
      "image/png": "[encoded data removed]",
      "text/plain": [
       "<Figure size 1200x600 with 2 Axes>"
      ]
     },
     "metadata": {},
     "output_type": "display_data"
    }
   ],
   "source": [
    "# 产品种类与评分\n",
    "abc = pd.crosstab(ori_shopping[\"Category\"],ori_shopping[\"Review Rating\"])\n",
    "plt.figure(figsize=(12,6))\n",
    "sns.heatmap(abc,cmap='YlGnBu')\n",
    "plt.title('产品类别与评分分布')\n",
    "plt.xlabel('评分')\n",
    "plt.ylabel('产品类别')\n",
    "plt.show()"
   ]
  },
  {
   "cell_type": "code",
   "execution_count": 22,
   "id": "a92b4c0b-83fe-4718-9d56-895c0bac27b4",
   "metadata": {},
   "outputs": [
    {
     "name": "stderr",
     "output_type": "stream",
     "text": [
      "D:\\anaco\\Lib\\site-packages\\seaborn\\_oldcore.py:1119: FutureWarning: use_inf_as_na option is deprecated and will be removed in a future version. Convert inf values to NaN before operating instead.\n",
      "  with pd.option_context('mode.use_inf_as_na', True):\n"
     ]
    },
    {
     "data": {
      "image/png": "[encoded data removed]",
      "text/plain": [
       "<Figure size 640x480 with 1 Axes>"
      ]
     },
     "metadata": {},
     "output_type": "display_data"
    }
   ],
   "source": [
    "# 是否订阅\n",
    "sns.histplot(ori_shopping[\"Subscription Status\"])\n",
    "plt.xlabel(\"是否订阅状态\")\n",
    "plt.ylabel(\"数量\")\n",
    "plt.show()"
   ]
  },
  {
   "cell_type": "code",
   "execution_count": 23,
   "id": "748fe074-485c-4e89-a447-33e9e07a4db8",
   "metadata": {},
   "outputs": [
    {
     "name": "stderr",
     "output_type": "stream",
     "text": [
      "D:\\anaco\\Lib\\site-packages\\seaborn\\categorical.py:641: FutureWarning: The default of observed=False is deprecated and will be changed to True in a future version of pandas. Pass observed=False to retain current behavior or observed=True to adopt the future default and silence this warning.\n",
      "  grouped_vals = vals.groupby(grouper)\n"
     ]
    },
    {
     "data": {
      "image/png": "[encoded data removed]",
      "text/plain": [
       "<Figure size 640x480 with 1 Axes>"
      ]
     },
     "metadata": {},
     "output_type": "display_data"
    }
   ],
   "source": [
    "ori_shopping['Age Group'] = pd.cut(ori_shopping['Age'], bins=[18,25, 35, 45, 55, 65, 75])\n",
    "sns.boxplot(x='Age Group', y='Review Rating', data=ori_shopping,palette = \"Set3\")\n",
    "plt.title('各年龄段的评分分布')\n",
    "plt.xlabel('年龄段')\n",
    "plt.ylabel('评分')\n",
    "plt.show()"
   ]
  },
  {
   "cell_type": "markdown",
   "id": "0223e480-14aa-4e03-a827-f0e30339b94c",
   "metadata": {},
   "source": [
    "# 分析及建模"
   ]
  },
  {
   "cell_type": "code",
   "execution_count": 24,
   "id": "3dc47180-b42b-4c20-adf5-156298cf7ec4",
   "metadata": {},
   "outputs": [],
   "source": [
    "import pandas as pd\n",
    "from sklearn.preprocessing import LabelEncoder\n",
    "from sklearn.cluster import KMeans\n",
    "from sklearn.neighbors import KNeighborsClassifier\n",
    "from sklearn.metrics import silhouette_score\n",
    "import matplotlib.pyplot as plt"
   ]
  },
  {
   "cell_type": "code",
   "execution_count": 25,
   "id": "e31a2c6c-3e12-42e1-9a2f-f4e4f475282a",
   "metadata": {},
   "outputs": [],
   "source": [
    "le = LabelEncoder()\n",
    "ori_shopping['Gender'] = le.fit_transform(ori_shopping['Gender'])\n",
    "ori_shopping['Subscription Status'] = le.fit_transform(ori_shopping['Subscription Status'])"
   ]
  },
  {
   "cell_type": "code",
   "execution_count": 26,
   "id": "90e1f515-a288-4e82-b22d-becddf70b5be",
   "metadata": {},
   "outputs": [
    {
     "name": "stderr",
     "output_type": "stream",
     "text": [
      "D:\\anaco\\Lib\\site-packages\\sklearn\\cluster\\_kmeans.py:870: FutureWarning: The default value of `n_init` will change from 10 to 'auto' in 1.4. Set the value of `n_init` explicitly to suppress the warning\n",
      "  warnings.warn(\n",
      "D:\\anaco\\Lib\\site-packages\\sklearn\\cluster\\_kmeans.py:870: FutureWarning: The default value of `n_init` will change from 10 to 'auto' in 1.4. Set the value of `n_init` explicitly to suppress the warning\n",
      "  warnings.warn(\n",
      "D:\\anaco\\Lib\\site-packages\\sklearn\\cluster\\_kmeans.py:870: FutureWarning: The default value of `n_init` will change from 10 to 'auto' in 1.4. Set the value of `n_init` explicitly to suppress the warning\n",
      "  warnings.warn(\n",
      "D:\\anaco\\Lib\\site-packages\\sklearn\\cluster\\_kmeans.py:870: FutureWarning: The default value of `n_init` will change from 10 to 'auto' in 1.4. Set the value of `n_init` explicitly to suppress the warning\n",
      "  warnings.warn(\n",
      "D:\\anaco\\Lib\\site-packages\\sklearn\\cluster\\_kmeans.py:870: FutureWarning: The default value of `n_init` will change from 10 to 'auto' in 1.4. Set the value of `n_init` explicitly to suppress the warning\n",
      "  warnings.warn(\n",
      "D:\\anaco\\Lib\\site-packages\\sklearn\\cluster\\_kmeans.py:870: FutureWarning: The default value of `n_init` will change from 10 to 'auto' in 1.4. Set the value of `n_init` explicitly to suppress the warning\n",
      "  warnings.warn(\n",
      "D:\\anaco\\Lib\\site-packages\\sklearn\\cluster\\_kmeans.py:870: FutureWarning: The default value of `n_init` will change from 10 to 'auto' in 1.4. Set the value of `n_init` explicitly to suppress the warning\n",
      "  warnings.warn(\n",
      "D:\\anaco\\Lib\\site-packages\\sklearn\\cluster\\_kmeans.py:870: FutureWarning: The default value of `n_init` will change from 10 to 'auto' in 1.4. Set the value of `n_init` explicitly to suppress the warning\n",
      "  warnings.warn(\n",
      "D:\\anaco\\Lib\\site-packages\\sklearn\\cluster\\_kmeans.py:870: FutureWarning: The default value of `n_init` will change from 10 to 'auto' in 1.4. Set the value of `n_init` explicitly to suppress the warning\n",
      "  warnings.warn(\n",
      "D:\\anaco\\Lib\\site-packages\\sklearn\\cluster\\_kmeans.py:870: FutureWarning: The default value of `n_init` will change from 10 to 'auto' in 1.4. Set the value of `n_init` explicitly to suppress the warning\n",
      "  warnings.warn(\n"
     ]
    }
   ],
   "source": [
    "X = ori_shopping[['Age', 'Gender', 'Purchase Amount', 'Review Rating', 'Subscription Status']]\n",
    "sse = []\n",
    "for k in range(1, 11):\n",
    "    kmeans = KMeans(n_clusters=k, random_state=42)\n",
    "    kmeans.fit(X)\n",
    "    sse.append(kmeans.inertia_)"
   ]
  },
  {
   "cell_type": "code",
   "execution_count": 27,
   "id": "8acfa387-a494-4e53-9aa8-47bf3a593ee0",
   "metadata": {},
   "outputs": [
    {
     "data": {
      "image/png": "[encoded data removed]",
      "text/plain": [
       "<Figure size 1000x600 with 1 Axes>"
      ]
     },
     "metadata": {},
     "output_type": "display_data"
    }
   ],
   "source": [
    "plt.figure(figsize=(10, 6))\n",
    "plt.plot(range(1, 11), sse, marker='o')\n",
    "plt.title('肘部法则确定最佳簇数')\n",
    "plt.xlabel('簇数')\n",
    "plt.xticks(rotation=45)\n",
    "plt.ylabel('SSE')\n",
    "plt.show()"
   ]
  },
  {
   "cell_type": "code",
   "execution_count": 28,
   "id": "52be7f36-9aa1-43ba-aadc-fe629f699aa6",
   "metadata": {},
   "outputs": [],
   "source": [
    "# 确定最佳簇数为2"
   ]
  },
  {
   "cell_type": "code",
   "execution_count": 38,
   "id": "7e4fd2c4-72a2-489d-bb41-e5d740210594",
   "metadata": {},
   "outputs": [
    {
     "name": "stderr",
     "output_type": "stream",
     "text": [
      "D:\\anaco\\Lib\\site-packages\\sklearn\\cluster\\_kmeans.py:870: FutureWarning: The default value of `n_init` will change from 10 to 'auto' in 1.4. Set the value of `n_init` explicitly to suppress the warning\n",
      "  warnings.warn(\n"
     ]
    }
   ],
   "source": [
    "best_k = 2\n",
    "kmeans = KMeans(n_clusters=best_k, random_state=42)\n",
    "ori_shopping['Cluster'] = kmeans.fit_predict(X)"
   ]
  },
  {
   "cell_type": "code",
   "execution_count": 39,
   "id": "eb543d5c-f9d1-4e73-bcff-1df0fab9e0eb",
   "metadata": {},
   "outputs": [],
   "source": [
    "knn = KNeighborsClassifier(n_neighbors=5)\n",
    "knn.fit(X, ori_shopping['Cluster'])\n",
    "ori_shopping['KNN_Cluster'] = knn.predict(X)"
   ]
  },
  {
   "cell_type": "code",
   "execution_count": 40,
   "id": "cd9439c6-007e-4eb2-9a5d-9dea5d307d3b",
   "metadata": {},
   "outputs": [
    {
     "name": "stdout",
     "output_type": "stream",
     "text": [
      "轮廓系数: 0.44915408459787265\n"
     ]
    }
   ],
   "source": [
    "silhouette_avg = silhouette_score(X, ori_shopping['Cluster'])\n",
    "print(f'轮廓系数: {silhouette_avg}')"
   ]
  },
  {
   "cell_type": "code",
   "execution_count": null,
   "id": "ae61a716-65d1-4e45-9315-d1695a3434c7",
   "metadata": {},
   "outputs": [],
   "source": []
  },
  {
   "cell_type": "code",
   "execution_count": null,
   "id": "cb3d3da1-e8a5-4f92-9d51-79a0dc5a8593",
   "metadata": {},
   "outputs": [],
   "source": []
  }
 ],
 "metadata": {
  "kernelspec": {
   "display_name": "Python 3 (ipykernel)",
   "language": "python",
   "name": "python3"
  },
  "language_info": {
   "codemirror_mode": {
    "name": "ipython",
    "version": 3
   },
   "file_extension": ".py",
   "mimetype": "text/x-python",
   "name": "python",
   "nbconvert_exporter": "python",
   "pygments_lexer": "ipython3",
   "version": "3.11.7"
  }
 },
 "nbformat": 4,
 "nbformat_minor": 5
}
