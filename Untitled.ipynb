{
 "cells": [
  {
   "cell_type": "markdown",
   "id": "338ed0c7-c64b-45fc-8068-0cdb580d621f",
   "metadata": {},
   "source": [
    "本数据集包含了 3900 条购物交易记录，涵盖了 15 个关键属性。记录了每笔交易的详细信息，包括交易日期（Date）、顾客唯一标识（Customer ID）、顾客年龄（Age）、性别（Gender）、购买的商品名称（Item Purchased）、商品所属类别（Category）、购买金额（Purchase Amount）、购物地点（Location）、商品尺寸（Size）、颜色（Color）、购物季节（Season）、顾客给出的评价评分（Review Rating）、顾客的订阅状态（Subscription Status）以及是否使用了折扣（Discount Applied）和促销码（Promo Code Used）等信息。这些属性从多个角度刻画了消费者的购物行为和偏好，为后续的数据分析提供了丰富的素材。"
   ]
  },
  {
   "cell_type": "markdown",
   "id": "5cbe9aee-43dd-458e-ac0a-21def35e29d6",
   "metadata": {},
   "source": [
    "# 数据清洗"
   ]
  },
  {
   "cell_type": "code",
   "execution_count": 1,
   "id": "2c53f25e-3f80-4b9c-a12d-3422dd204e06",
   "metadata": {},
   "outputs": [],
   "source": [
    "import pandas as pd\n",
    "import matplotlib.pyplot as plt\n",
    "import seaborn as sns\n",
    "import numpy as np\n",
    "from sklearn.cluster import KMeans"
   ]
  },
  {
   "cell_type": "code",
   "execution_count": 2,
   "id": "81e0af6b-967b-48f0-8ad6-4d7dbec2d66e",
   "metadata": {},
   "outputs": [],
   "source": [
    "ori_shopping=pd.read_csv(\"shopping_trends.csv\")"
   ]
  },
  {
   "cell_type": "code",
   "execution_count": 3,
   "id": "9427d138-3fb6-4dd0-a0dd-b51077e96a1a",
   "metadata": {},
   "outputs": [
    {
     "name": "stdout",
     "output_type": "stream",
     "text": [
      "Index(['Date', 'Customer ID', 'Age', 'Gender', 'Item Purchased', 'Category',\n",
      "       'Purchase Amount ', 'Location', 'Size', 'Color', 'Season',\n",
      "       'Review Rating', 'Subscription Status', 'Discount Applied',\n",
      "       'Promo Code Used'],\n",
      "      dtype='object')\n"
     ]
    }
   ],
   "source": [
    "print(ori_shopping.columns) "
   ]
  },
  {
   "cell_type": "code",
   "execution_count": 4,
   "id": "7e6dcba9-87a5-419c-912e-a544e3475815",
   "metadata": {},
   "outputs": [],
   "source": [
    "ori_shopping = ori_shopping.rename(columns = {'Purchase Amount ':'Purchase Amount'})"
   ]
  },
  {
   "cell_type": "code",
   "execution_count": 5,
   "id": "98a21aca-d61d-48ea-94dc-b2c71bd6346e",
   "metadata": {},
   "outputs": [
    {
     "data": {
      "text/html": [
       "<div>\n",
       "<style scoped>\n",
       "    .dataframe tbody tr th:only-of-type {\n",
       "        vertical-align: middle;\n",
       "    }\n",
       "\n",
       "    .dataframe tbody tr th {\n",
       "        vertical-align: top;\n",
       "    }\n",
       "\n",
       "    .dataframe thead th {\n",
       "        text-align: right;\n",
       "    }\n",
       "</style>\n",
       "<table border=\"1\" class=\"dataframe\">\n",
       "  <thead>\n",
       "    <tr style=\"text-align: right;\">\n",
       "      <th></th>\n",
       "      <th>Date</th>\n",
       "      <th>Customer ID</th>\n",
       "      <th>Age</th>\n",
       "      <th>Gender</th>\n",
       "      <th>Item Purchased</th>\n",
       "      <th>Category</th>\n",
       "      <th>Purchase Amount</th>\n",
       "      <th>Location</th>\n",
       "      <th>Size</th>\n",
       "      <th>Color</th>\n",
       "      <th>Season</th>\n",
       "      <th>Review Rating</th>\n",
       "      <th>Subscription Status</th>\n",
       "      <th>Discount Applied</th>\n",
       "      <th>Promo Code Used</th>\n",
       "    </tr>\n",
       "  </thead>\n",
       "  <tbody>\n",
       "    <tr>\n",
       "      <th>3688</th>\n",
       "      <td>2023/1/6</td>\n",
       "      <td>DO-13435</td>\n",
       "      <td>52</td>\n",
       "      <td>Female</td>\n",
       "      <td>Sunglasses</td>\n",
       "      <td>Accessories</td>\n",
       "      <td>91</td>\n",
       "      <td>Yunnan</td>\n",
       "      <td>L</td>\n",
       "      <td>White</td>\n",
       "      <td>Winter</td>\n",
       "      <td>3.0</td>\n",
       "      <td>No</td>\n",
       "      <td>No</td>\n",
       "      <td>No</td>\n",
       "    </tr>\n",
       "    <tr>\n",
       "      <th>2343</th>\n",
       "      <td>2023/6/18</td>\n",
       "      <td>CL-11890</td>\n",
       "      <td>58</td>\n",
       "      <td>Male</td>\n",
       "      <td>Socks</td>\n",
       "      <td>Clothing</td>\n",
       "      <td>49</td>\n",
       "      <td>Hebei</td>\n",
       "      <td>M</td>\n",
       "      <td>Red</td>\n",
       "      <td>Summer</td>\n",
       "      <td>4.4</td>\n",
       "      <td>No</td>\n",
       "      <td>No</td>\n",
       "      <td>No</td>\n",
       "    </tr>\n",
       "    <tr>\n",
       "      <th>2176</th>\n",
       "      <td>2023/9/18</td>\n",
       "      <td>PB-18805</td>\n",
       "      <td>24</td>\n",
       "      <td>Male</td>\n",
       "      <td>Belt</td>\n",
       "      <td>Accessories</td>\n",
       "      <td>91</td>\n",
       "      <td>Jiangxi</td>\n",
       "      <td>S</td>\n",
       "      <td>Red</td>\n",
       "      <td>Fall</td>\n",
       "      <td>3.4</td>\n",
       "      <td>No</td>\n",
       "      <td>No</td>\n",
       "      <td>No</td>\n",
       "    </tr>\n",
       "    <tr>\n",
       "      <th>1015</th>\n",
       "      <td>2023/11/7</td>\n",
       "      <td>MO-17800</td>\n",
       "      <td>68</td>\n",
       "      <td>Male</td>\n",
       "      <td>Gloves</td>\n",
       "      <td>Accessories</td>\n",
       "      <td>24</td>\n",
       "      <td>Beijing</td>\n",
       "      <td>M</td>\n",
       "      <td>Cyan</td>\n",
       "      <td>Fall</td>\n",
       "      <td>4.1</td>\n",
       "      <td>Yes</td>\n",
       "      <td>Yes</td>\n",
       "      <td>Yes</td>\n",
       "    </tr>\n",
       "    <tr>\n",
       "      <th>1834</th>\n",
       "      <td>2023/12/22</td>\n",
       "      <td>AS-10045</td>\n",
       "      <td>49</td>\n",
       "      <td>Male</td>\n",
       "      <td>Skirt</td>\n",
       "      <td>Clothing</td>\n",
       "      <td>35</td>\n",
       "      <td>Hunan</td>\n",
       "      <td>M</td>\n",
       "      <td>Charcoal</td>\n",
       "      <td>Winter</td>\n",
       "      <td>4.1</td>\n",
       "      <td>No</td>\n",
       "      <td>No</td>\n",
       "      <td>No</td>\n",
       "    </tr>\n",
       "    <tr>\n",
       "      <th>2836</th>\n",
       "      <td>2023/4/23</td>\n",
       "      <td>GA-14725</td>\n",
       "      <td>51</td>\n",
       "      <td>Female</td>\n",
       "      <td>Pants</td>\n",
       "      <td>Clothing</td>\n",
       "      <td>50</td>\n",
       "      <td>Liaoning</td>\n",
       "      <td>M</td>\n",
       "      <td>Charcoal</td>\n",
       "      <td>Spring</td>\n",
       "      <td>5.0</td>\n",
       "      <td>No</td>\n",
       "      <td>No</td>\n",
       "      <td>No</td>\n",
       "    </tr>\n",
       "    <tr>\n",
       "      <th>303</th>\n",
       "      <td>2023/10/3</td>\n",
       "      <td>JH-15910</td>\n",
       "      <td>20</td>\n",
       "      <td>Male</td>\n",
       "      <td>Sandals</td>\n",
       "      <td>Footwear</td>\n",
       "      <td>60</td>\n",
       "      <td>Hebei</td>\n",
       "      <td>M</td>\n",
       "      <td>Turquoise</td>\n",
       "      <td>Fall</td>\n",
       "      <td>3.3</td>\n",
       "      <td>Yes</td>\n",
       "      <td>Yes</td>\n",
       "      <td>Yes</td>\n",
       "    </tr>\n",
       "    <tr>\n",
       "      <th>1313</th>\n",
       "      <td>2023/1/2</td>\n",
       "      <td>PK-19075</td>\n",
       "      <td>70</td>\n",
       "      <td>Male</td>\n",
       "      <td>Shoes</td>\n",
       "      <td>Footwear</td>\n",
       "      <td>28</td>\n",
       "      <td>Jiangsu</td>\n",
       "      <td>M</td>\n",
       "      <td>Lavender</td>\n",
       "      <td>Winter</td>\n",
       "      <td>2.6</td>\n",
       "      <td>No</td>\n",
       "      <td>Yes</td>\n",
       "      <td>Yes</td>\n",
       "    </tr>\n",
       "    <tr>\n",
       "      <th>1059</th>\n",
       "      <td>2023/3/1</td>\n",
       "      <td>MG-17650</td>\n",
       "      <td>22</td>\n",
       "      <td>Male</td>\n",
       "      <td>Jacket</td>\n",
       "      <td>Outerwear</td>\n",
       "      <td>34</td>\n",
       "      <td>Jiangsu</td>\n",
       "      <td>M</td>\n",
       "      <td>Beige</td>\n",
       "      <td>Spring</td>\n",
       "      <td>2.5</td>\n",
       "      <td>No</td>\n",
       "      <td>Yes</td>\n",
       "      <td>Yes</td>\n",
       "    </tr>\n",
       "    <tr>\n",
       "      <th>3198</th>\n",
       "      <td>2023/2/7</td>\n",
       "      <td>TB-21280</td>\n",
       "      <td>61</td>\n",
       "      <td>Female</td>\n",
       "      <td>Gloves</td>\n",
       "      <td>Accessories</td>\n",
       "      <td>94</td>\n",
       "      <td>Shandong</td>\n",
       "      <td>L</td>\n",
       "      <td>Peach</td>\n",
       "      <td>Winter</td>\n",
       "      <td>2.8</td>\n",
       "      <td>No</td>\n",
       "      <td>No</td>\n",
       "      <td>No</td>\n",
       "    </tr>\n",
       "  </tbody>\n",
       "</table>\n",
       "</div>"
      ],
      "text/plain": [
       "            Date Customer ID  Age  Gender Item Purchased     Category  \\\n",
       "3688    2023/1/6    DO-13435   52  Female     Sunglasses  Accessories   \n",
       "2343   2023/6/18    CL-11890   58    Male          Socks     Clothing   \n",
       "2176   2023/9/18    PB-18805   24    Male           Belt  Accessories   \n",
       "1015   2023/11/7    MO-17800   68    Male         Gloves  Accessories   \n",
       "1834  2023/12/22    AS-10045   49    Male          Skirt     Clothing   \n",
       "2836   2023/4/23    GA-14725   51  Female          Pants     Clothing   \n",
       "303    2023/10/3    JH-15910   20    Male        Sandals     Footwear   \n",
       "1313    2023/1/2    PK-19075   70    Male          Shoes     Footwear   \n",
       "1059    2023/3/1    MG-17650   22    Male         Jacket    Outerwear   \n",
       "3198    2023/2/7    TB-21280   61  Female         Gloves  Accessories   \n",
       "\n",
       "      Purchase Amount  Location Size      Color  Season  Review Rating  \\\n",
       "3688               91    Yunnan    L      White  Winter            3.0   \n",
       "2343               49     Hebei    M        Red  Summer            4.4   \n",
       "2176               91   Jiangxi    S        Red    Fall            3.4   \n",
       "1015               24   Beijing    M       Cyan    Fall            4.1   \n",
       "1834               35     Hunan    M   Charcoal  Winter            4.1   \n",
       "2836               50  Liaoning    M   Charcoal  Spring            5.0   \n",
       "303                60     Hebei    M  Turquoise    Fall            3.3   \n",
       "1313               28   Jiangsu    M   Lavender  Winter            2.6   \n",
       "1059               34   Jiangsu    M      Beige  Spring            2.5   \n",
       "3198               94  Shandong    L      Peach  Winter            2.8   \n",
       "\n",
       "     Subscription Status Discount Applied Promo Code Used  \n",
       "3688                  No               No              No  \n",
       "2343                  No               No              No  \n",
       "2176                  No               No              No  \n",
       "1015                 Yes              Yes             Yes  \n",
       "1834                  No               No              No  \n",
       "2836                  No               No              No  \n",
       "303                  Yes              Yes             Yes  \n",
       "1313                  No              Yes             Yes  \n",
       "1059                  No              Yes             Yes  \n",
       "3198                  No               No              No  "
      ]
     },
     "execution_count": 5,
     "metadata": {},
     "output_type": "execute_result"
    }
   ],
   "source": [
    "ori_shopping.sample(10)"
   ]
  },
  {
   "cell_type": "code",
   "execution_count": 6,
   "id": "16fb0ca2-fc73-43d9-96e2-3b0edf1ead0a",
   "metadata": {},
   "outputs": [
    {
     "name": "stdout",
     "output_type": "stream",
     "text": [
      "<class 'pandas.core.frame.DataFrame'>\n",
      "RangeIndex: 3900 entries, 0 to 3899\n",
      "Data columns (total 15 columns):\n",
      " #   Column               Non-Null Count  Dtype  \n",
      "---  ------               --------------  -----  \n",
      " 0   Date                 3900 non-null   object \n",
      " 1   Customer ID          3900 non-null   object \n",
      " 2   Age                  3900 non-null   int64  \n",
      " 3   Gender               3900 non-null   object \n",
      " 4   Item Purchased       3900 non-null   object \n",
      " 5   Category             3900 non-null   object \n",
      " 6   Purchase Amount      3900 non-null   int64  \n",
      " 7   Location             3900 non-null   object \n",
      " 8   Size                 3900 non-null   object \n",
      " 9   Color                3900 non-null   object \n",
      " 10  Season               3900 non-null   object \n",
      " 11  Review Rating        3900 non-null   float64\n",
      " 12  Subscription Status  3900 non-null   object \n",
      " 13  Discount Applied     3900 non-null   object \n",
      " 14  Promo Code Used      3900 non-null   object \n",
      "dtypes: float64(1), int64(2), object(12)\n",
      "memory usage: 457.2+ KB\n"
     ]
    }
   ],
   "source": [
    "ori_shopping.info()"
   ]
  },
  {
   "cell_type": "code",
   "execution_count": 7,
   "id": "3d965bd1-4615-47cb-99e3-dbb4f215669c",
   "metadata": {},
   "outputs": [],
   "source": [
    "# date是时间类型，Gender，Category，Size，Color，Season等可以是分类数据，没有缺失值。"
   ]
  },
  {
   "cell_type": "code",
   "execution_count": 8,
   "id": "8965340c-14c5-4e61-8f77-49ea4bb0d235",
   "metadata": {},
   "outputs": [
    {
     "data": {
      "text/plain": [
       "0      2023-12-27\n",
       "1      2023-03-06\n",
       "2      2023-02-05\n",
       "3      2023-07-11\n",
       "4      2023-06-24\n",
       "          ...    \n",
       "3895   2023-09-12\n",
       "3896   2023-08-26\n",
       "3897   2023-01-01\n",
       "3898   2023-08-22\n",
       "3899   2023-04-01\n",
       "Name: Date, Length: 3900, dtype: datetime64[ns]"
      ]
     },
     "execution_count": 8,
     "metadata": {},
     "output_type": "execute_result"
    }
   ],
   "source": [
    "#处理时间字段\n",
    "ori_shopping[\"Date\"] = pd.to_datetime(ori_shopping[\"Date\"])\n",
    "ori_shopping[\"Date\"]"
   ]
  },
  {
   "cell_type": "code",
   "execution_count": 9,
   "id": "e1ebd30a-b816-4f3c-91ff-be03d4cffbfa",
   "metadata": {},
   "outputs": [
    {
     "name": "stdout",
     "output_type": "stream",
     "text": [
      "<class 'pandas.core.frame.DataFrame'>\n",
      "RangeIndex: 3900 entries, 0 to 3899\n",
      "Data columns (total 15 columns):\n",
      " #   Column               Non-Null Count  Dtype         \n",
      "---  ------               --------------  -----         \n",
      " 0   Date                 3900 non-null   datetime64[ns]\n",
      " 1   Customer ID          3900 non-null   object        \n",
      " 2   Age                  3900 non-null   int64         \n",
      " 3   Gender               3900 non-null   category      \n",
      " 4   Item Purchased       3900 non-null   object        \n",
      " 5   Category             3900 non-null   category      \n",
      " 6   Purchase Amount      3900 non-null   int64         \n",
      " 7   Location             3900 non-null   object        \n",
      " 8   Size                 3900 non-null   category      \n",
      " 9   Color                3900 non-null   category      \n",
      " 10  Season               3900 non-null   category      \n",
      " 11  Review Rating        3900 non-null   float64       \n",
      " 12  Subscription Status  3900 non-null   category      \n",
      " 13  Discount Applied     3900 non-null   category      \n",
      " 14  Promo Code Used      3900 non-null   category      \n",
      "dtypes: category(8), datetime64[ns](1), float64(1), int64(2), object(3)\n",
      "memory usage: 245.7+ KB\n"
     ]
    }
   ],
   "source": [
    "#处理分类数据\n",
    "t1 = {'Gender':'category',\n",
    "      'Category':'category',\n",
    "      'Size':'category',\n",
    "      'Color':'category',\n",
    "      'Season':'category',\n",
    "      'Subscription Status':'category',\n",
    "      'Discount Applied':'category',\n",
    "      'Promo Code Used':'category'}\n",
    "ori_shopping = ori_shopping.astype(t1)\n",
    "ori_shopping.info()"
   ]
  },
  {
   "cell_type": "code",
   "execution_count": 10,
   "id": "40f8e797-c982-434a-bd44-4559f743a235",
   "metadata": {},
   "outputs": [
    {
     "data": {
      "text/plain": [
       "Gender\n",
       "Male      2652\n",
       "Female    1248\n",
       "Name: count, dtype: int64"
      ]
     },
     "execution_count": 10,
     "metadata": {},
     "output_type": "execute_result"
    }
   ],
   "source": [
    "# 不一致数据可能存在分类变量中\n",
    "ori_shopping[\"Gender\"].value_counts()"
   ]
  },
  {
   "cell_type": "code",
   "execution_count": 11,
   "id": "8d1c028c-a9e1-43aa-811c-a46e8b01a661",
   "metadata": {},
   "outputs": [
    {
     "data": {
      "text/plain": [
       "Category\n",
       "Clothing       1737\n",
       "Accessories    1240\n",
       "Footwear        599\n",
       "Outerwear       324\n",
       "Name: count, dtype: int64"
      ]
     },
     "execution_count": 11,
     "metadata": {},
     "output_type": "execute_result"
    }
   ],
   "source": [
    "ori_shopping[\"Category\"].value_counts()"
   ]
  },
  {
   "cell_type": "code",
   "execution_count": 12,
   "id": "9290e915-cef7-4469-9f32-e5f3ff979dc7",
   "metadata": {},
   "outputs": [
    {
     "data": {
      "text/plain": [
       "Size\n",
       "M     1755\n",
       "L     1053\n",
       "S      663\n",
       "XL     429\n",
       "Name: count, dtype: int64"
      ]
     },
     "execution_count": 12,
     "metadata": {},
     "output_type": "execute_result"
    }
   ],
   "source": [
    "ori_shopping[\"Size\"].value_counts()"
   ]
  },
  {
   "cell_type": "code",
   "execution_count": 13,
   "id": "dc2db075-d03a-4a11-bc4d-e0887edf9a90",
   "metadata": {},
   "outputs": [
    {
     "data": {
      "text/plain": [
       "Season\n",
       "Spring    1002\n",
       "Summer     981\n",
       "Fall       964\n",
       "Winter     953\n",
       "Name: count, dtype: int64"
      ]
     },
     "execution_count": 13,
     "metadata": {},
     "output_type": "execute_result"
    }
   ],
   "source": [
    "ori_shopping[\"Season\"].value_counts()"
   ]
  },
  {
   "cell_type": "code",
   "execution_count": 14,
   "id": "4c0092a1-b0d5-422b-b9c8-3158b0b61527",
   "metadata": {},
   "outputs": [
    {
     "data": {
      "text/plain": [
       "Color\n",
       "Olive        177\n",
       "Yellow       174\n",
       "Silver       173\n",
       "Teal         172\n",
       "Green        169\n",
       "Black        167\n",
       "Violet       166\n",
       "Cyan         166\n",
       "Gray         159\n",
       "Maroon       158\n",
       "Orange       154\n",
       "Pink         153\n",
       "Charcoal     153\n",
       "Magenta      152\n",
       "Blue         152\n",
       "Purple       151\n",
       "Peach        149\n",
       "Red          148\n",
       "Lavender     147\n",
       "Indigo       147\n",
       "Beige        147\n",
       "Turquoise    145\n",
       "White        142\n",
       "Brown        141\n",
       "Gold         138\n",
       "Name: count, dtype: int64"
      ]
     },
     "execution_count": 14,
     "metadata": {},
     "output_type": "execute_result"
    }
   ],
   "source": [
    "ori_shopping[\"Color\"].value_counts()"
   ]
  },
  {
   "cell_type": "code",
   "execution_count": 15,
   "id": "2b559109-df05-4138-9605-66c76993bdaf",
   "metadata": {},
   "outputs": [],
   "source": [
    "# 从以上结果来看，均不存在不一致数据"
   ]
  },
  {
   "cell_type": "code",
   "execution_count": 16,
   "id": "6d2f2c67-20ec-4aa4-8839-106d21b3df91",
   "metadata": {},
   "outputs": [
    {
     "data": {
      "text/html": [
       "<div>\n",
       "<style scoped>\n",
       "    .dataframe tbody tr th:only-of-type {\n",
       "        vertical-align: middle;\n",
       "    }\n",
       "\n",
       "    .dataframe tbody tr th {\n",
       "        vertical-align: top;\n",
       "    }\n",
       "\n",
       "    .dataframe thead th {\n",
       "        text-align: right;\n",
       "    }\n",
       "</style>\n",
       "<table border=\"1\" class=\"dataframe\">\n",
       "  <thead>\n",
       "    <tr style=\"text-align: right;\">\n",
       "      <th></th>\n",
       "      <th>Date</th>\n",
       "      <th>Age</th>\n",
       "      <th>Purchase Amount</th>\n",
       "      <th>Review Rating</th>\n",
       "    </tr>\n",
       "  </thead>\n",
       "  <tbody>\n",
       "    <tr>\n",
       "      <th>count</th>\n",
       "      <td>3900</td>\n",
       "      <td>3900.000000</td>\n",
       "      <td>3900.000000</td>\n",
       "      <td>3900.000000</td>\n",
       "    </tr>\n",
       "    <tr>\n",
       "      <th>mean</th>\n",
       "      <td>2023-07-01 18:03:41.538461440</td>\n",
       "      <td>44.068462</td>\n",
       "      <td>59.764359</td>\n",
       "      <td>3.749949</td>\n",
       "    </tr>\n",
       "    <tr>\n",
       "      <th>min</th>\n",
       "      <td>2023-01-01 00:00:00</td>\n",
       "      <td>18.000000</td>\n",
       "      <td>20.000000</td>\n",
       "      <td>2.500000</td>\n",
       "    </tr>\n",
       "    <tr>\n",
       "      <th>25%</th>\n",
       "      <td>2023-04-03 00:00:00</td>\n",
       "      <td>31.000000</td>\n",
       "      <td>39.000000</td>\n",
       "      <td>3.100000</td>\n",
       "    </tr>\n",
       "    <tr>\n",
       "      <th>50%</th>\n",
       "      <td>2023-07-01 00:00:00</td>\n",
       "      <td>44.000000</td>\n",
       "      <td>60.000000</td>\n",
       "      <td>3.700000</td>\n",
       "    </tr>\n",
       "    <tr>\n",
       "      <th>75%</th>\n",
       "      <td>2023-09-30 00:00:00</td>\n",
       "      <td>57.000000</td>\n",
       "      <td>81.000000</td>\n",
       "      <td>4.400000</td>\n",
       "    </tr>\n",
       "    <tr>\n",
       "      <th>max</th>\n",
       "      <td>2023-12-31 00:00:00</td>\n",
       "      <td>70.000000</td>\n",
       "      <td>100.000000</td>\n",
       "      <td>5.000000</td>\n",
       "    </tr>\n",
       "    <tr>\n",
       "      <th>std</th>\n",
       "      <td>NaN</td>\n",
       "      <td>15.207589</td>\n",
       "      <td>23.685392</td>\n",
       "      <td>0.716223</td>\n",
       "    </tr>\n",
       "  </tbody>\n",
       "</table>\n",
       "</div>"
      ],
      "text/plain": [
       "                                Date          Age  Purchase Amount  \\\n",
       "count                           3900  3900.000000      3900.000000   \n",
       "mean   2023-07-01 18:03:41.538461440    44.068462        59.764359   \n",
       "min              2023-01-01 00:00:00    18.000000        20.000000   \n",
       "25%              2023-04-03 00:00:00    31.000000        39.000000   \n",
       "50%              2023-07-01 00:00:00    44.000000        60.000000   \n",
       "75%              2023-09-30 00:00:00    57.000000        81.000000   \n",
       "max              2023-12-31 00:00:00    70.000000       100.000000   \n",
       "std                              NaN    15.207589        23.685392   \n",
       "\n",
       "       Review Rating  \n",
       "count    3900.000000  \n",
       "mean        3.749949  \n",
       "min         2.500000  \n",
       "25%         3.100000  \n",
       "50%         3.700000  \n",
       "75%         4.400000  \n",
       "max         5.000000  \n",
       "std         0.716223  "
      ]
     },
     "execution_count": 16,
     "metadata": {},
     "output_type": "execute_result"
    }
   ],
   "source": [
    "ori_shopping.describe()"
   ]
  },
  {
   "cell_type": "code",
   "execution_count": 17,
   "id": "c0c15cd2-93e7-4816-af62-0dfb8f870b14",
   "metadata": {},
   "outputs": [],
   "source": [
    "# 从以上结果来看，不存在脱离实际意义的值"
   ]
  },
  {
   "cell_type": "markdown",
   "id": "b16d18ab-f9ae-4a2d-92b6-70027a03c161",
   "metadata": {},
   "source": [
    "数据分析\n",
    "从以上结果来看，该数据集涵括了2023年整年的销售状况，其中购买者年龄平均为44岁，最低达18岁，最高达70岁。平均交易价格约为59.7，标准差为23.7，说明产品线包括经济型和高端型。而顾客给出的评价评分均值再3.7左右，标准差为0.7，说明绝大多数消费者的评分差异较小。"
   ]
  },
  {
   "cell_type": "markdown",
   "id": "da4445ae-24d9-4318-8839-5bcb96e08b6d",
   "metadata": {},
   "source": [
    "# 数据可视化"
   ]
  },
  {
   "cell_type": "code",
   "execution_count": 18,
   "id": "c96ab9ad-1199-4364-aea2-8ad2efa587ca",
   "metadata": {},
   "outputs": [],
   "source": [
    "plt.rcParams['font.sans-serif'] = ['SimHei']   #设置中文字体"
   ]
  },
  {
   "cell_type": "code",
   "execution_count": 19,
   "id": "ef9c0401-6c0f-44cf-87e9-76e568b4d4a8",
   "metadata": {},
   "outputs": [
    {
     "name": "stderr",
     "output_type": "stream",
     "text": [
      "D:\\anaco\\Lib\\site-packages\\seaborn\\categorical.py:641: FutureWarning: The default of observed=False is deprecated and will be changed to True in a future version of pandas. Pass observed=False to retain current behavior or observed=True to adopt the future default and silence this warning.\n",
      "  grouped_vals = vals.groupby(grouper)\n"
     ]
    },
    {
     "data": {
      "image/png": "[encoded data removed]",
      "text/plain": [
       "<Figure size 640x480 with 1 Axes>"
      ]
     },
     "metadata": {},
     "output_type": "display_data"
    }
   ],
   "source": [
    "# 各种类价格分布\n",
    "sns.boxplot(\n",
    "    x = \"Category\",\n",
    "    y = \"Purchase Amount\",\n",
    "    data = ori_shopping,\n",
    "palette = \"Set3\")\n",
    "plt.title(\"各种类价格分布\")\n",
    "plt.xlabel(\"商品种类\")\n",
    "plt.ylabel(\"购买价格\")\n",
    "plt.show()"
   ]
  },
  {
   "cell_type": "code",
   "execution_count": 20,
   "id": "ba251f8e-9781-419d-95c0-871d9a4c017b",
   "metadata": {},
   "outputs": [
    {
     "data": {
      "image/png": "[encoded data removed]",
      "text/plain": [
       "<Figure size 1200x600 with 2 Axes>"
      ]
     },
     "metadata": {},
     "output_type": "display_data"
    }
   ],
   "source": [
    "# 产品种类与评分\n",
    "abc = pd.crosstab(ori_shopping[\"Category\"],ori_shopping[\"Review Rating\"])\n",
    "plt.figure(figsize=(12,6))\n",
    "sns.heatmap(abc,cmap='YlGnBu')\n",
    "plt.title('产品类别与评分分布')\n",
    "plt.xlabel('评分')\n",
    "plt.ylabel('产品类别')\n",
    "plt.show()"
   ]
  },
  {
   "cell_type": "code",
   "execution_count": 21,
   "id": "a92b4c0b-83fe-4718-9d56-895c0bac27b4",
   "metadata": {},
   "outputs": [
    {
     "name": "stderr",
     "output_type": "stream",
     "text": [
      "D:\\anaco\\Lib\\site-packages\\seaborn\\_oldcore.py:1119: FutureWarning: use_inf_as_na option is deprecated and will be removed in a future version. Convert inf values to NaN before operating instead.\n",
      "  with pd.option_context('mode.use_inf_as_na', True):\n"
     ]
    },
    {
     "data": {
      "image/png": "[encoded data removed]",
      "text/plain": [
       "<Figure size 640x480 with 1 Axes>"
      ]
     },
     "metadata": {},
     "output_type": "display_data"
    }
   ],
   "source": [
    "# 是否订阅\n",
    "sns.histplot(ori_shopping[\"Subscription Status\"])\n",
    "plt.xlabel(\"是否订阅状态\")\n",
    "plt.ylabel(\"数量\")\n",
    "plt.show()"
   ]
  },
  {
   "cell_type": "code",
   "execution_count": null,
   "id": "748fe074-485c-4e89-a447-33e9e07a4db8",
   "metadata": {},
   "outputs": [],
   "source": []
  }
 ],
 "metadata": {
  "kernelspec": {
   "display_name": "Python 3 (ipykernel)",
   "language": "python",
   "name": "python3"
  },
  "language_info": {
   "codemirror_mode": {
    "name": "ipython",
    "version": 3
   },
   "file_extension": ".py",
   "mimetype": "text/x-python",
   "name": "python",
   "nbconvert_exporter": "python",
   "pygments_lexer": "ipython3",
   "version": "3.11.7"
  }
 },
 "nbformat": 4,
 "nbformat_minor": 5
}
